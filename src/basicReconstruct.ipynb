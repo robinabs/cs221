{
 "cells": [
  {
   "cell_type": "code",
   "execution_count": 1,
   "metadata": {
    "collapsed": true
   },
   "outputs": [],
   "source": [
    "import collections\n",
    "import copy\n",
    "\n",
    "import cspUtil\n",
    "import dataUtil"
   ]
  },
  {
   "cell_type": "code",
   "execution_count": 2,
   "metadata": {
    "collapsed": true
   },
   "outputs": [],
   "source": [
    "def countSequences(inputList, N):\n",
    "    out = collections.defaultdict(float)\n",
    "    for i in range(len(inputList)-N+1):\n",
    "        if [inputList[i+k] != None for k in range(N)] == [True for _ in range(N)]:\n",
    "            seq = tuple([inputList[i+k] for k in range(N)])\n",
    "        out[seq] += 1\n",
    "\n",
    "    factor= 1.0 / sum(out.itervalues())\n",
    "    for k in out:\n",
    "          out[k] *= 10*factor\n",
    "\n",
    "    return out"
   ]
  },
  {
   "cell_type": "code",
   "execution_count": 3,
   "metadata": {
    "collapsed": true
   },
   "outputs": [],
   "source": [
    "def createRythmCSP(windowedPrimTrack, bi=True, tri=False):\n",
    "    cspRythm = cspUtil.CSP()\n",
    "\n",
    "    # Creating \"units\" variables\n",
    "    transitions = [note[1] for note in windowedPrimTrack]\n",
    "    for unitNum in range(windowStart, windowEnd+1):\n",
    "        unit = windowedPrimTrack[unitNum]\n",
    "        cspRythm.add_variable(('U', unitNum), [(unit[0],True),(unit[0],False)])\n",
    "\n",
    "    if bi:\n",
    "        # Create binary factors proportional to frequence of apparition of pairs\n",
    "        biSequences = countSequences(transitions, 2)\n",
    "        print \"bi\"\n",
    "        print biSequences\n",
    "        for varNum in range(windowStart, windowEnd):\n",
    "            cspRythm.add_binary_factor(('U', varNum), ('U', varNum+1), lambda u1, u2 : biSequences[(u1[1], u2[1])])\n",
    "        # Add corner cases\n",
    "        cspRythm.add_unary_factor(('U', windowStart), lambda u : biSequences[(windowedPrimTrack[windowStart-1][1], u[1])])\n",
    "        cspRythm.add_unary_factor(('U', windowEnd)  , lambda u : biSequences[(u[1], windowedPrimTrack[windowEnd+1][1])])\n",
    "\n",
    "    if tri:\n",
    "        # Creating \"binary\" variables for 3-sequences handling\n",
    "        domain = [(False, False), (False, True), (True, False), (True, True)]\n",
    "        for unitNum in range(windowStart, windowEnd+1):\n",
    "            cspRythm.add_variable(('B', unitNum), copy.deepcopy(domain))\n",
    "\n",
    "        # Creating binary factors proportional to frequence of apparition of triads\n",
    "        triSequences = countSequences(transitions, 3)\n",
    "\n",
    "        for varNum in range(windowStart, windowEnd+1):\n",
    "            # Add constraint B_i[0] = U_i[1]\n",
    "            cspRythm.add_binary_factor(('U', varNum), ('B', varNum), lambda u, b: u[1] == b[0])\n",
    "\n",
    "            if varNum != windowEnd:\n",
    "                # Add consitency contraints B_i[0] = B_{i+1}[1] and frequency factor\n",
    "                cspRythm.add_binary_factor(('B', varNum), ('B', varNum+1), \\\n",
    "                                           lambda b1, b2: (b1[0] == b2[1]) * triSequences[(b1[1], b1[0], b2[0])])\n",
    "        # Add corner cases\n",
    "        cspRythm.add_unary_factor(('B', windowStart), lambda b: b[1] == windowedPrimTrack[windowStart-1])\n",
    "        cspRythm.add_unary_factor(('B', windowEnd)  , \\\n",
    "                lambda b: triSequences[(b[1], b[0], windowedPrimTrack[windowEnd+1])] \\\n",
    "                        * triSequences[(b[0], windowedPrimTrack[windowEnd+1], windowedPrimTrack[windowEnd+2])])\n",
    "\n",
    "    return cspRythm"
   ]
  },
  {
   "cell_type": "code",
   "execution_count": 4,
   "metadata": {
    "collapsed": true
   },
   "outputs": [],
   "source": [
    "def createPitchCSP(pitchTrack, triSeq=False):\n",
    "    cspPitch = cspUtil.CSP()\n",
    "\n",
    "    # Creating \"units\" variables #\n",
    "    # Domains\n",
    "    minPitch, maxPitch = pitchTrack[0], pitchTrack[0]\n",
    "    for pitch in pitchTrack:\n",
    "        if type(pitch) == int:\n",
    "            minPitch, maxPitch = min(minPitch, pitch), max(maxPitch, pitch)\n",
    "    domains = tuple(list(range(minPitch, maxPitch+1)) + ['silence'])\n",
    "    for pitchNum in range(windowStart, windowEnd+1):\n",
    "        pitch = pitchTrack[pitchNum]\n",
    "        cspPitch.add_variable(('U', pitchNum), copy.deepcopy(domains))\n",
    "\n",
    "    # Create binary factors proportional to frequence of apparition of pairs\n",
    "    biSequences = countSequences(pitchTrack, 2)\n",
    "    print \"bi\"\n",
    "    print biSequences\n",
    "    for varNum in range(windowStart, windowEnd):\n",
    "        cspPitch.add_binary_factor(('U', varNum), ('U', varNum+1), lambda p1, p2 : biSequences[(p1, p2)])\n",
    "    # Add corner cases\n",
    "    cspPitch.add_unary_factor(('U', windowStart), lambda p : biSequences[(pitchTrack[windowStart-1], p)])\n",
    "    cspPitch.add_unary_factor(('U', windowEnd)  , lambda p : biSequences[(p, pitchTrack[windowEnd+1])])\n",
    "\n",
    "    \"\"\"\n",
    "    if triSeq:\n",
    "        # Creating \"binary\" variables for 3-sequences handling\n",
    "        domain = [(False, False), (False, True), (True, False), (True, True)]\n",
    "        for unitNum in range(windowStart, windowEnd+1):\n",
    "            cspPitch.add_variable(('B', unitNum), copy.deepcopy(domain))\n",
    "\n",
    "        # Creating binary factors proportional to frequence of apparition of triads\n",
    "        triSequences = countSequences(windowedPrimTrack, 3)\n",
    "\n",
    "        for varNum in range(windowStart, windowEnd+1):\n",
    "            # Add constraint B_i[0] = U_i[1]\n",
    "            cspPitch.add_binary_factor(('U', varNum), ('B', varNum), lambda u, b: u[1] == b[0])\n",
    "\n",
    "            if varNum != windowEnd:\n",
    "                # Add consitency contraints B_i[0] = B_{i+1}[1] and frequency factor\n",
    "                cspPitch.add_binary_factor(('B', varNum), ('B', varNum+1), \\\n",
    "                                           lambda b1, b2: (b1[0] == b2[1]) * triSequences[(b1[1], b1[0], b2[0])])\n",
    "        # Add corner cases\n",
    "        cspPitch.add_unary_factor(('B', windowStart), lambda b: b[1] == windowedPrimTrack[windowStart-1])\n",
    "        cspPitch.add_unary_factor(('B', windowEnd)  , \\\n",
    "                lambda b: triSequences[(b[1], b[0], windowedPrimTrack[windowEnd+1])] \\\n",
    "                        * triSequences[(b[0], windowedPrimTrack[windowEnd+1], windowedPrimTrack[windowEnd+2])])\n",
    "        \"\"\"\n",
    "\n",
    "    return cspPitch"
   ]
  },
  {
   "cell_type": "code",
   "execution_count": null,
   "metadata": {
    "collapsed": true
   },
   "outputs": [],
   "source": [
    "midiFile = \"../../test/ode.mid\"\n",
    "windowStart, windowEnd = 10, 15\n",
    "ode = dataUtil.MusicPattern(midiFile)\n",
    "rythmUnit, windowedPrimTrack = ode.getCorrupt(windowStart, windowEnd)\n",
    "pitchTrack = [note[0] for note in windowedPrimTrack]\n",
    "CSP = createRythmCSP(windowedPrimTrack, bi=False, tri=True)\n",
    "print windowedPrimTrack[(windowStart-1):(windowEnd+2)]\n",
    "print CSP.variables\n",
    "print CSP.values\n",
    "print \"unary\"\n",
    "print CSP.unaryFactors\n",
    "print \"binary\"\n",
    "print CSP.binaryFactors\n",
    "search = cspUtil.BacktrackingSearch()\n",
    "search.solve(CSP)"
   ]
  }
 ],
 "metadata": {
  "kernelspec": {
   "display_name": "Python 2",
   "language": "python",
   "name": "python2"
  },
  "language_info": {
   "codemirror_mode": {
    "name": "ipython",
    "version": 2
   },
   "file_extension": ".py",
   "mimetype": "text/x-python",
   "name": "python",
   "nbconvert_exporter": "python",
   "pygments_lexer": "ipython2",
   "version": "2.7.14"
  }
 },
 "nbformat": 4,
 "nbformat_minor": 2
}
