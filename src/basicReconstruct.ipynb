{
 "cells": [
  {
   "cell_type": "code",
   "execution_count": 1,
   "metadata": {
    "collapsed": true
   },
   "outputs": [],
   "source": [
    "import collections\n",
    "import copy\n",
    "import cspUtil\n",
    "import dataUtil"
   ]
  },
  {
   "cell_type": "code",
   "execution_count": 71,
   "metadata": {
    "collapsed": true
   },
   "outputs": [],
   "source": [
    "def countSequences(inputList, N):\n",
    "    out = collections.defaultdict(float)\n",
    "    for i in range(len(inputList)-N+1):\n",
    "        if [inputList[i+k] != None for k in range(N)] == [True for _ in range(N)]:\n",
    "            seq = tuple([inputList[i+k] for k in range(N)])\n",
    "            out[seq] += 1\n",
    "    print out\n",
    "\n",
    "    factor= 1.0 / sum(out.itervalues())\n",
    "    for k in out:\n",
    "          out[k] *= 10*factor\n",
    "\n",
    "    return out"
   ]
  },
  {
   "cell_type": "code",
   "execution_count": 39,
   "metadata": {},
   "outputs": [
    {
     "name": "stdout",
     "output_type": "stream",
     "text": [
      "Loaded /Users/robin/Desktop/CS221_projet/Open_MIDI_file/chor_armure.mid\n"
     ]
    }
   ],
   "source": [
    "midi_file = \"/Users/robin/Desktop/CS221_projet/Open_MIDI_file/chor_armure.mid\"\n",
    "windowStart, windowEnd = 10, 15\n",
    "mypattern = dataUtil.MusicPattern(midi_file)\n",
    "mypattern.midiToLisp()\n",
    "mypattern.lispToPrim()\n",
    "mypattern.primToLisp()\n",
    "mypattern.lispToMidi()\n",
    "rythmUnit, windowedPrimTrack = mypattern.getCorrupt(windowStart, windowEnd)"
   ]
  },
  {
   "cell_type": "code",
   "execution_count": 119,
   "metadata": {
    "collapsed": true
   },
   "outputs": [],
   "source": [
    "def createRythmCSP(windowedPrimTrack, bi=True, tri=False):\n",
    "    cspRythm = cspUtil.CSP()\n",
    "\n",
    "    # Creating \"units\" variables\n",
    "    transitions = [note[1] for note in windowedPrimTrack]\n",
    "    for unitNum in range(windowStart, windowEnd+1):\n",
    "        unit = windowedPrimTrack[unitNum]\n",
    "        cspRythm.add_variable(('U', unitNum), [(unit[0],True),(unit[0],False)])\n",
    "\n",
    "    if bi:\n",
    "        # Create binary factors proportional to frequence of apparition of pairs\n",
    "        biSequences = countSequences(transitions, 2)\n",
    "        #print \"bi\"\n",
    "        #print biSequences\n",
    "        for varNum in range(windowStart, windowEnd):\n",
    "            cspRythm.add_binary_factor(('U', varNum), ('U', varNum+1), lambda u1, u2 : biSequences[(u1[1], u2[1])])\n",
    "        # Add corner cases\n",
    "        cspRythm.add_unary_factor(('U', windowStart), lambda u : biSequences[(windowedPrimTrack[windowStart-1][1], u[1])])\n",
    "        cspRythm.add_unary_factor(('U', windowEnd)  , lambda u : biSequences[(u[1], windowedPrimTrack[windowEnd+1][1])])\n",
    "\n",
    "    if tri:\n",
    "        # Creating \"binary\" variables for 3-sequences handling\n",
    "        domain = [(False, False), (False, True), (True, False), (True, True)]\n",
    "        for unitNum in range(windowStart, windowEnd+1):\n",
    "            cspRythm.add_variable(('B', unitNum), copy.deepcopy(domain))\n",
    "\n",
    "        # Creating binary factors proportional to frequence of apparition of triads\n",
    "        triSequences = countSequences(transitions, 3)\n",
    "\n",
    "        for varNum in range(windowStart, windowEnd+1):\n",
    "            # Add constraint B_i[0] = U_i[1]\n",
    "            cspRythm.add_binary_factor(('U', varNum), ('B', varNum), lambda u, b: u[1] == b[0])\n",
    "\n",
    "            if varNum != windowEnd:\n",
    "                # Add consitency contraints B_i[0] = B_{i+1}[1] and frequency factor\n",
    "                cspRythm.add_binary_factor(('B', varNum), ('B', varNum+1), \\\n",
    "                                           lambda b1, b2: (b1[0] == b2[1]) * triSequences[(b1[1], b1[0], b2[0])])\n",
    "        # Add corner cases\n",
    "        cspRythm.add_unary_factor(('B', windowStart), lambda b: b[1] == windowedPrimTrack[windowStart-1])\n",
    "        cspRythm.add_unary_factor(('B', windowEnd)  , \\\n",
    "                lambda b: triSequences[(b[1], b[0], windowedPrimTrack[windowEnd+1])] \\\n",
    "                        * triSequences[(b[0], windowedPrimTrack[windowEnd+1], windowedPrimTrack[windowEnd+2])])\n",
    "\n",
    "    return cspRythm"
   ]
  },
  {
   "cell_type": "code",
   "execution_count": 120,
   "metadata": {
    "collapsed": true
   },
   "outputs": [],
   "source": [
    "def createPitchCSP(windowedPitchPrimTrack, bi=True, tri=False):\n",
    "    cspPitch = cspUtil.CSP()\n",
    "    pitchTrack = [note[0] for note in windowedPrimTrack]\n",
    "    # Creating \"units\" variables #\n",
    "    # Domains\n",
    "    minPitch, maxPitch = pitchTrack[0], pitchTrack[0]\n",
    "    for pitch in pitchTrack:\n",
    "        if type(pitch) == int:\n",
    "            minPitch, maxPitch = min(minPitch, pitch), max(maxPitch, pitch)\n",
    "    domains = tuple(list(range(minPitch, maxPitch+1)) + ['silence'])\n",
    "    \n",
    "    for pitchNum in range(windowStart, windowEnd+1):\n",
    "        cspPitch.add_variable(('U', pitchNum), copy.deepcopy(domains))\n",
    "\n",
    "    # Create binary factor: must keep the same pitch if previous duration = True\n",
    "    for varNum in range(windowStart, windowEnd): \n",
    "        if windowedPitchPrimTrack[varNum][1]:\n",
    "            cspPitch.add_binary_factor(('U', varNum), ('U', varNum+1), lambda x, y : x == y)\n",
    "    \n",
    "    # Create binary factors proportional to frequence of apparition of pairs\n",
    "    biSequences = countSequences(pitchTrack, 2)\n",
    "    #print \"bi\"\n",
    "    #print biSequences\n",
    "    for varNum in range(windowStart, windowEnd):\n",
    "        cspPitch.add_binary_factor(('U', varNum), ('U', varNum+1), lambda p1, p2 : biSequences[(p1, p2)])\n",
    "    # Add corner cases\n",
    "    cspPitch.add_unary_factor(('U', windowStart), lambda p : biSequences[(pitchTrack[windowStart-1], p)])\n",
    "    cspPitch.add_unary_factor(('U', windowEnd)  , lambda p : biSequences[(p, pitchTrack[windowEnd+1])])\n",
    "\n",
    "    \"\"\"\n",
    "    if triSeq:\n",
    "        # Creating \"binary\" variables for 3-sequences handling\n",
    "        domain = [(False, False), (False, True), (True, False), (True, True)]\n",
    "        for unitNum in range(windowStart, windowEnd+1):\n",
    "            cspPitch.add_variable(('B', unitNum), copy.deepcopy(domain))\n",
    "\n",
    "        # Creating binary factors proportional to frequence of apparition of triads\n",
    "        triSequences = countSequences(windowedPrimTrack, 3)\n",
    "\n",
    "        for varNum in range(windowStart, windowEnd+1):\n",
    "            # Add constraint B_i[0] = U_i[1]\n",
    "            cspPitch.add_binary_factor(('U', varNum), ('B', varNum), lambda u, b: u[1] == b[0])\n",
    "\n",
    "            if varNum != windowEnd:\n",
    "                # Add consitency contraints B_i[0] = B_{i+1}[1] and frequency factor\n",
    "                cspPitch.add_binary_factor(('B', varNum), ('B', varNum+1), \\\n",
    "                                           lambda b1, b2: (b1[0] == b2[1]) * triSequences[(b1[1], b1[0], b2[0])])\n",
    "        # Add corner cases\n",
    "        cspPitch.add_unary_factor(('B', windowStart), lambda b: b[1] == windowedPrimTrack[windowStart-1])\n",
    "        cspPitch.add_unary_factor(('B', windowEnd)  , \\\n",
    "                lambda b: triSequences[(b[1], b[0], windowedPrimTrack[windowEnd+1])] \\\n",
    "                        * triSequences[(b[0], windowedPrimTrack[windowEnd+1], windowedPrimTrack[windowEnd+2])])\n",
    "        \"\"\"\n",
    "\n",
    "    return cspPitch"
   ]
  },
  {
   "cell_type": "code",
   "execution_count": 121,
   "metadata": {},
   "outputs": [
    {
     "name": "stdout",
     "output_type": "stream",
     "text": [
      "Loaded /Users/robin/Desktop/CS221_projet/Open_MIDI_file/ode.mid\n"
     ]
    }
   ],
   "source": [
    "midi_file = \"/Users/robin/Desktop/CS221_projet/Open_MIDI_file/ode.mid\"\n",
    "windowStart, windowEnd = 10, 15\n",
    "mypattern = dataUtil.MusicPattern(midi_file)\n",
    "mypattern.midiToLisp()\n",
    "mypattern.lispToPrim()\n",
    "mypattern.primToLisp()\n",
    "mypattern.lispToMidi()\n",
    "rythmUnit, windowedPrimTrack = mypattern.getCorrupt(windowStart, windowEnd)"
   ]
  },
  {
   "cell_type": "code",
   "execution_count": 123,
   "metadata": {},
   "outputs": [
    {
     "name": "stdout",
     "output_type": "stream",
     "text": [
      "defaultdict(<type 'float'>, {(False, True): 23.0, (True, False): 25.0, (False, False): 2.0, (True, True): 6.0})\n",
      "Found 1 optimal assignments with weight 25317.171354 in 127 operations\n",
      "First assignment took 7 operations\n",
      "One of the optimal assignments is\n",
      "('U', 10) (None, True)\n",
      "('U', 11) (None, False)\n",
      "('U', 12) (None, True)\n",
      "('U', 13) (None, False)\n",
      "('U', 14) (None, True)\n",
      "('U', 15) (None, False)\n"
     ]
    }
   ],
   "source": [
    "CSP = createRythmCSP(windowedPrimTrack, True, False)\n",
    "search_rythm = cspUtil.BacktrackingSearch()\n",
    "search_rythm.solve(CSP)\n",
    "\n",
    "windowedPitchPrimTrack = windowedPrimTrack[:]\n",
    "for i, note in enumerate(windowedPitchPrimTrack[1:]):\n",
    "    if note == (None, None):\n",
    "        windowedPitchPrimTrack[i+1] = search_rythm.optimalAssignment[('U', i+1)]"
   ]
  },
  {
   "cell_type": "code",
   "execution_count": 125,
   "metadata": {},
   "outputs": [
    {
     "name": "stdout",
     "output_type": "stream",
     "text": [
      "defaultdict(<type 'float'>, {(74, 72): 2.0, (77, 76): 1.0, (76, 76): 12.0, (77, 77): 3.0, (74, 74): 9.0, (76, 77): 2.0, (77, 79): 2.0, (72, 74): 2.0, (74, 76): 3.0, (72, 72): 10.0, (76, 74): 3.0, (79, 77): 1.0, (79, 79): 6.0})\n",
      "Found 1 optimal assignments with weight 0.011256 in 29 operations\n",
      "First assignment took 7 operations\n",
      "One of the optimal assignments is\n",
      "('U', 10) 77\n",
      "('U', 11) 77\n",
      "('U', 12) 76\n",
      "('U', 13) 76\n",
      "('U', 14) 74\n",
      "('U', 15) 74\n"
     ]
    }
   ],
   "source": [
    "CSP = createPitchCSP(windowedPitchPrimTrack, True, False)\n",
    "search_pitch = cspUtil.BacktrackingSearch()\n",
    "search_pitch.solve(CSP)"
   ]
  },
  {
   "cell_type": "code",
   "execution_count": null,
   "metadata": {
    "collapsed": true
   },
   "outputs": [],
   "source": []
  }
 ],
 "metadata": {
  "kernelspec": {
   "display_name": "Python 2",
   "language": "python",
   "name": "python2"
  },
  "language_info": {
   "codemirror_mode": {
    "name": "ipython",
    "version": 2
   },
   "file_extension": ".py",
   "mimetype": "text/x-python",
   "name": "python",
   "nbconvert_exporter": "python",
   "pygments_lexer": "ipython2",
   "version": "2.7.14"
  }
 },
 "nbformat": 4,
 "nbformat_minor": 2
}
