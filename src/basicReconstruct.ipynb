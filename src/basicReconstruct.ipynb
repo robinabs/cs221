{
 "cells": [
  {
   "cell_type": "code",
   "execution_count": 1,
   "metadata": {
    "collapsed": true
   },
   "outputs": [],
   "source": [
    "import collections\n",
    "import copy\n",
    "import cspUtil\n",
    "import dataUtil"
   ]
  },
  {
   "cell_type": "code",
   "execution_count": 2,
   "metadata": {
    "collapsed": true
   },
   "outputs": [],
   "source": [
    "def countSequences(inputList, N):\n",
    "    out = collections.defaultdict(float)\n",
    "    for i in range(len(inputList)-N+1):\n",
    "        if [inputList[i+k] != None for k in range(N)] == [True for _ in range(N)]:\n",
    "            seq = tuple([inputList[i+k] for k in range(N)])\n",
    "            out[seq] += 1\n",
    "    print out\n",
    "\n",
    "    factor= 1.0 / sum(out.itervalues())\n",
    "    for k in out:\n",
    "          out[k] *= 10*factor\n",
    "\n",
    "    return out"
   ]
  },
  {
   "cell_type": "code",
   "execution_count": 3,
   "metadata": {},
   "outputs": [
    {
     "name": "stdout",
     "output_type": "stream",
     "text": [
      "Loaded /Users/robin/Desktop/CS221_projet/Open_MIDI_file/chor_armure.mid\n"
     ]
    }
   ],
   "source": [
    "midi_file = \"/Users/robin/Desktop/CS221_projet/Open_MIDI_file/chor_armure.mid\"\n",
    "window = (10, 15)\n",
    "mypattern = dataUtil.MusicPattern(midi_file)\n",
    "mypattern.midiToLisp()\n",
    "mypattern.lispToPrim()\n",
    "mypattern.primToLisp()\n",
    "mypattern.lispToMidi()\n",
    "rythmUnit, windowedPrimTrack = mypattern.getCorrupt(window)"
   ]
  },
  {
   "cell_type": "code",
   "execution_count": 4,
   "metadata": {
    "collapsed": true
   },
   "outputs": [],
   "source": [
    "def createRythmCSP(windowedPrimTrack, window, bi=True, tri=False):\n",
    "    cspRythm = cspUtil.CSP()\n",
    "    (start, end) = window\n",
    "    # Creating \"units\" variables\n",
    "    transitions = [note[1] for note in windowedPrimTrack]\n",
    "    for unitNum in range(start, end+1):\n",
    "        unit = windowedPrimTrack[unitNum]\n",
    "        cspRythm.add_variable(('U', unitNum), [(unit[0],True),(unit[0],False)])\n",
    "\n",
    "    if bi:\n",
    "        # Create binary factors proportional to frequence of apparition of pairs\n",
    "        biSequences = countSequences(transitions, 2)\n",
    "        #print \"bi\"\n",
    "        #print biSequences\n",
    "        for varNum in range(start, end):\n",
    "            cspRythm.add_binary_factor(('U', varNum), ('U', varNum+1), lambda u1, u2 : biSequences[(u1[1], u2[1])])\n",
    "        # Add corner cases\n",
    "        cspRythm.add_unary_factor(('U', start), lambda u : biSequences[(windowedPrimTrack[start-1][1], u[1])])\n",
    "        cspRythm.add_unary_factor(('U', end)  , lambda u : biSequences[(u[1], windowedPrimTrack[end+1][1])])\n",
    "\n",
    "    if tri:\n",
    "        # Creating \"binary\" variables for 3-sequences handling\n",
    "        domain = [(False, False), (False, True), (True, False), (True, True)]\n",
    "        for unitNum in range(start, end+1):\n",
    "            cspRythm.add_variable(('B', unitNum), copy.deepcopy(domain))\n",
    "\n",
    "        # Creating binary factors proportional to frequence of apparition of triads\n",
    "        triSequences = countSequences(transitions, 3)\n",
    "\n",
    "        for varNum in range(start, end+1):\n",
    "            # Add constraint B_i[0] = U_i[1]\n",
    "            cspRythm.add_binary_factor(('U', varNum), ('B', varNum), lambda u, b: u[1] == b[0])\n",
    "\n",
    "            if varNum != end:\n",
    "                # Add consitency contraints B_i[0] = B_{i+1}[1] and frequency factor\n",
    "                cspRythm.add_binary_factor(('B', varNum), ('B', varNum+1), \\\n",
    "                                           lambda b1, b2: (b1[0] == b2[1]) * triSequences[(b1[1], b1[0], b2[0])])\n",
    "        # Add corner cases\n",
    "        cspRythm.add_unary_factor(('B', start), lambda b: b[1] == windowedPrimTrack[start-1])\n",
    "        cspRythm.add_unary_factor(('B', end)  , \\\n",
    "                lambda b: triSequences[(b[1], b[0], windowedPrimTrack[end+1])] \\\n",
    "                        * triSequences[(b[0], windowedPrimTrack[end+1], windowedPrimTrack[end+2])])\n",
    "\n",
    "    return cspRythm"
   ]
  },
  {
   "cell_type": "code",
   "execution_count": 60,
   "metadata": {
    "collapsed": true
   },
   "outputs": [],
   "source": [
    "def createPitchCSP(windowedPitchPrimTrack, window, bi=True, tri=False):\n",
    "    (start, end) = window\n",
    "    cspPitch = cspUtil.CSP()\n",
    "    pitchTrack = [note[0] for note in windowedPrimTrack]\n",
    "    # Creating \"units\" variables #\n",
    "    # Domains\n",
    "    minPitch, maxPitch = pitchTrack[0], pitchTrack[0]\n",
    "    for pitch in pitchTrack:\n",
    "        if type(pitch) == int:\n",
    "            minPitch, maxPitch = min(minPitch, pitch), max(maxPitch, pitch)\n",
    "    domains = tuple(list(range(minPitch, maxPitch+1)) + ['silence'])\n",
    "    \n",
    "    for pitchNum in range(start, end+1):\n",
    "        cspPitch.add_variable(('U', pitchNum), copy.deepcopy(domains))\n",
    "\n",
    "     #frequency of single apparition\n",
    "    freq1 = countSequences(pitchTrack, 1)\n",
    "    for pitchIdx in range(start, end):\n",
    "        cspPitch.add_unary_factor(('U', pitchIdx), lambda p : freq1[(p,)])\n",
    "        \n",
    "    # Create binary factor: must keep the same pitch if previous duration = True\n",
    "    for varNum in range(start, end): \n",
    "        if windowedPitchPrimTrack[varNum][1]:\n",
    "            cspPitch.add_binary_factor(('U', varNum), ('U', varNum+1), lambda x, y : x == y)\n",
    "    \n",
    "    \n",
    "    # Create binary factors proportional to frequence of apparition of pairs\n",
    "    biSequences = countSequences(pitchTrack, 2)\n",
    "    #print \"bi\"\n",
    "    #print biSequences\n",
    "    for varNum in range(start, end):\n",
    "        cspPitch.add_binary_factor(('U', varNum), ('U', varNum+1), lambda p1, p2 : biSequences[(p1, p2)])\n",
    "    # Add corner cases\n",
    "    cspPitch.add_unary_factor(('U', start), lambda p : biSequences[(pitchTrack[start-1], p)])\n",
    "    cspPitch.add_unary_factor(('U', end)  , lambda p : biSequences[(p, pitchTrack[end+1])])\n",
    "    # must keep same pitch if previous duration = True\n",
    "    if windowedPitchPrimTrack[start-1][1]:\n",
    "        cspPitch.add_unary_factor(('U', start), lambda x : x == windowedPitchPrimTrack[start-1][0])\n",
    "    if windowedPitchPrimTrack[end][1]:\n",
    "        cspPitch.add_unary_factor(('U', end), lambda x : x == windowedPitchPrimTrack[end+1][0])\n",
    "\n",
    "    \"\"\"\n",
    "    if triSeq:\n",
    "        # Creating \"binary\" variables for 3-sequences handling\n",
    "        domain = [(False, False), (False, True), (True, False), (True, True)]\n",
    "        for unitNum in range(start, end+1):\n",
    "            cspPitch.add_variable(('B', unitNum), copy.deepcopy(domain))\n",
    "\n",
    "        # Creating binary factors proportional to frequence of apparition of triads\n",
    "        triSequences = countSequences(windowedPrimTrack, 3)\n",
    "\n",
    "        for varNum in range(start, end+1):\n",
    "            # Add constraint B_i[0] = U_i[1]\n",
    "            cspPitch.add_binary_factor(('U', varNum), ('B', varNum), lambda u, b: u[1] == b[0])\n",
    "\n",
    "            if varNum != end:\n",
    "                # Add consitency contraints B_i[0] = B_{i+1}[1] and frequency factor\n",
    "                cspPitch.add_binary_factor(('B', varNum), ('B', varNum+1), \\\n",
    "                                           lambda b1, b2: (b1[0] == b2[1]) * triSequences[(b1[1], b1[0], b2[0])])\n",
    "        # Add corner cases\n",
    "        cspPitch.add_unary_factor(('B', start), lambda b: b[1] == windowedPrimTrack[start-1])\n",
    "        cspPitch.add_unary_factor(('B', end)  , \\\n",
    "                lambda b: triSequences[(b[1], b[0], windowedPrimTrack[end+1])] \\\n",
    "                        * triSequences[(b[0], windowedPrimTrack[end+1], windowedPrimTrack[end+2])])\n",
    "        \"\"\"\n",
    "\n",
    "    return cspPitch"
   ]
  },
  {
   "cell_type": "code",
   "execution_count": 61,
   "metadata": {},
   "outputs": [
    {
     "name": "stdout",
     "output_type": "stream",
     "text": [
      "Loaded /Users/robin/Desktop/CS221_projet/Open_MIDI_file/ode.mid\n"
     ]
    }
   ],
   "source": [
    "midi_file = \"/Users/robin/Desktop/CS221_projet/Open_MIDI_file/ode.mid\"\n",
    "mypattern = dataUtil.MusicPattern(midi_file)\n",
    "mypattern.midiToLisp()\n",
    "mypattern.lispToPrim()\n",
    "mypattern.primToLisp()\n",
    "mypattern.lispToMidi()"
   ]
  },
  {
   "cell_type": "code",
   "execution_count": 62,
   "metadata": {
    "collapsed": true
   },
   "outputs": [],
   "source": [
    "def reconstruction(windowedPrimTrack, window, bi=True, tri=False):\n",
    "    # Rhythm reconstruction\n",
    "    CSP_rythm = createRythmCSP(windowedPrimTrack, window, bi, tri)\n",
    "    search_rythm = cspUtil.BacktrackingSearch()\n",
    "    search_rythm.solve(CSP_rythm)\n",
    "    windowedPitchPrimTrack = windowedPrimTrack[:]\n",
    "    for i, note in enumerate(windowedPitchPrimTrack[:]):\n",
    "        if note == (None, None):\n",
    "            windowedPitchPrimTrack[i] = search_rythm.optimalAssignment[('U', i)]\n",
    "    \n",
    "    # Pitch reconstruction\n",
    "    CSP_pitch = createPitchCSP(windowedPitchPrimTrack, window, bi, tri)\n",
    "    search_pitch = cspUtil.BacktrackingSearch()\n",
    "    search_pitch.solve(CSP_pitch)\n",
    "    primReconstruction = windowedPitchPrimTrack[:]\n",
    "    for i, note in enumerate(primReconstruction[:]):\n",
    "        if note[0] == None:\n",
    "            primReconstruction[i] = (search_pitch.optimalAssignment[('U', i)],primReconstruction[i][1])\n",
    "    \n",
    "    return primReconstruction"
   ]
  },
  {
   "cell_type": "code",
   "execution_count": 63,
   "metadata": {
    "collapsed": true
   },
   "outputs": [],
   "source": [
    "def lossFunction(window, primOriginal, primReconstruction):\n",
    "    (start, end) = window\n",
    "    accuracy = 0\n",
    "    for i in range(start, end+1):\n",
    "        if primOriginal[i][0] == primReconstruction[i][0]:\n",
    "            accuracy += 1\n",
    "        else: \n",
    "            print 'Position:', i, 'Original pitch:', primOriginal[i][0], 'Reconstructed pitch:', primReconstruction[i][0]\n",
    "            \n",
    "        if primOriginal[i][1] == primReconstruction[i][1]:\n",
    "            accuracy += 1\n",
    "        else: \n",
    "            print 'Position:', i, 'Original rhythm:', primOriginal[i][1], 'Reconstructed rhythm:', primReconstruction[i][1]\n",
    "            \n",
    "    loss = 100 * (1 - accuracy/(2.*(end+1-start)))\n",
    "    print 'Loss value (percentage):', loss\n",
    "    return  loss"
   ]
  },
  {
   "cell_type": "code",
   "execution_count": 66,
   "metadata": {},
   "outputs": [
    {
     "name": "stdout",
     "output_type": "stream",
     "text": [
      "defaultdict(<type 'float'>, {(False, True): 23.0, (True, False): 24.0, (False, False): 1.0, (True, True): 3.0})\n",
      "Found 1 optimal assignments with weight 91367628.606887 in 4095 operations\n",
      "First assignment took 12 operations\n",
      "One of the optimal assignments is\n",
      "('U', 20) (None, True)\n",
      "('U', 21) (None, False)\n",
      "('U', 22) (None, True)\n",
      "('U', 23) (None, False)\n",
      "('U', 24) (None, True)\n",
      "('U', 25) (None, False)\n",
      "('U', 26) (None, True)\n",
      "('U', 27) (None, False)\n",
      "('U', 28) (None, True)\n",
      "('U', 29) (None, False)\n",
      "('U', 30) (None, True)\n",
      "defaultdict(<type 'float'>, {(79,): 8.0, (74,): 10.0, (77,): 8.0, (72,): 13.0, (76,): 14.0})\n",
      "defaultdict(<type 'float'>, {(74, 72): 3.0, (77, 76): 2.0, (76, 76): 9.0, (77, 77): 4.0, (74, 74): 5.0, (76, 77): 2.0, (77, 79): 2.0, (74, 76): 2.0, (72, 74): 1.0, (79, 77): 2.0, (76, 74): 3.0, (72, 72): 10.0, (79, 79): 6.0})\n",
      "Found 1 optimal assignments with weight 1272924.713323 in 377 operations\n",
      "First assignment took 12 operations\n",
      "One of the optimal assignments is\n",
      "('U', 20) 72\n",
      "('U', 21) 72\n",
      "('U', 22) 72\n",
      "('U', 23) 72\n",
      "('U', 24) 72\n",
      "('U', 25) 72\n",
      "('U', 26) 72\n",
      "('U', 27) 72\n",
      "('U', 28) 72\n",
      "('U', 29) 72\n",
      "('U', 30) 74\n",
      "Position: 20 Original pitch: 74 Reconstructed pitch: 72\n",
      "Position: 21 Original pitch: 74 Reconstructed pitch: 72\n",
      "Position: 22 Original pitch: 76 Reconstructed pitch: 72\n",
      "Position: 23 Original pitch: 76 Reconstructed pitch: 72\n",
      "Position: 24 Original pitch: 76 Reconstructed pitch: 72\n",
      "Position: 25 Original pitch: 76 Reconstructed pitch: 72\n",
      "Position: 25 Original rhythm: True Reconstructed rhythm: False\n",
      "Position: 26 Original pitch: 76 Reconstructed pitch: 72\n",
      "Position: 26 Original rhythm: False Reconstructed rhythm: True\n",
      "Position: 27 Original pitch: 74 Reconstructed pitch: 72\n",
      "Position: 28 Original pitch: 74 Reconstructed pitch: 72\n",
      "Position: 29 Original pitch: 74 Reconstructed pitch: 72\n",
      "Position: 29 Original rhythm: True Reconstructed rhythm: False\n",
      "Loss value (percentage): 59.0909090909\n"
     ]
    },
    {
     "data": {
      "text/plain": [
       "59.09090909090908"
      ]
     },
     "execution_count": 66,
     "metadata": {},
     "output_type": "execute_result"
    }
   ],
   "source": [
    "trackNum = 0\n",
    "window = (20, 30)\n",
    "rythmUnit, windowedPrimTrack = mypattern.getCorrupt(window, trackNum=0)\n",
    "primReconstruction = reconstruction(windowedPrimTrack, window, bi=True, tri=False)\n",
    "primOriginal = mypattern.primTracks[trackNum]\n",
    "lossFunction(window, primOriginal, primReconstruction)"
   ]
  },
  {
   "cell_type": "code",
   "execution_count": null,
   "metadata": {
    "collapsed": true
   },
   "outputs": [],
   "source": []
  },
  {
   "cell_type": "code",
   "execution_count": null,
   "metadata": {
    "collapsed": true
   },
   "outputs": [],
   "source": []
  }
 ],
 "metadata": {
  "kernelspec": {
   "display_name": "Python 2",
   "language": "python",
   "name": "python2"
  },
  "language_info": {
   "codemirror_mode": {
    "name": "ipython",
    "version": 2
   },
   "file_extension": ".py",
   "mimetype": "text/x-python",
   "name": "python",
   "nbconvert_exporter": "python",
   "pygments_lexer": "ipython2",
   "version": "2.7.14"
  }
 },
 "nbformat": 4,
 "nbformat_minor": 2
}
