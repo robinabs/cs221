{
 "cells": [
  {
   "cell_type": "code",
   "execution_count": 1,
   "metadata": {
    "collapsed": true
   },
   "outputs": [],
   "source": [
    "import collections\n",
    "import copy\n",
    "import cspUtil\n",
    "import dataUtil\n",
    "import itertools"
   ]
  },
  {
   "cell_type": "code",
   "execution_count": 2,
   "metadata": {
    "collapsed": true
   },
   "outputs": [],
   "source": [
    "def countSequences(inputList, N, gap=0):\n",
    "    out = collections.defaultdict(float)\n",
    "    if gap == 0:\n",
    "        for i in range(len(inputList)-N+1):\n",
    "            if [inputList[i+k] != None for k in range(N)] == [True for _ in range(N)]:\n",
    "                seq = tuple([inputList[i+k] for k in range(N)])\n",
    "                out[seq] += 1\n",
    "        #print out\n",
    "    else:\n",
    "        assert N == 2\n",
    "        for i in range(len(inputList)-N+1-gap):\n",
    "            if (inputList[i] != None) and (inputList[i+gap+1] != None):\n",
    "                seq = tuple([inputList[i], inputList[i+gap+1]])\n",
    "                out[seq] += 1\n",
    "        \n",
    "\n",
    "    factor= 1.0 / sum(out.itervalues())\n",
    "    for k in out:\n",
    "          out[k] *= 10 * factor\n",
    "\n",
    "    return out"
   ]
  },
  {
   "cell_type": "code",
   "execution_count": 3,
   "metadata": {
    "collapsed": true
   },
   "outputs": [],
   "source": [
    "def printBinaryFactor(binaryFactor):\n",
    "    for var1, dict1 in binaryFactor.items():\n",
    "        for var2, dict2 in dict1.items():\n",
    "            for val1, dict3 in dict2.items():\n",
    "                for val2, weight in dict3.items():\n",
    "                    if weight:\n",
    "                        print var1, val1, var2, val2, weight\n",
    "                        \n",
    "def printUnaryFactor(unaryFactor):\n",
    "    for var1, dict1 in unaryFactor.items():\n",
    "        if dict1 is None: continue\n",
    "        for val1, weight in dict1.items():\n",
    "            if weight:\n",
    "                print var1, val1, weight"
   ]
  },
  {
   "cell_type": "code",
   "execution_count": 17,
   "metadata": {
    "collapsed": true
   },
   "outputs": [],
   "source": [
    "def createRythmCSP(windowedPrimTrack, window, bi=True, tri=False, bi_gap=True):\n",
    "    cspRythm = cspUtil.CSP()\n",
    "    (start, end) = window\n",
    "    # Creating \"units\" variables\n",
    "    transitions = [note[1] for note in windowedPrimTrack]\n",
    "    for unitNum in range(start, end+1):\n",
    "        unit = windowedPrimTrack[unitNum]\n",
    "        cspRythm.add_variable(('U', unitNum), [(unit[0],True),(unit[0],False)])\n",
    "    \n",
    "    if bi:\n",
    "        # Create binary factors proportional to frequence of apparition of pairs\n",
    "        biSequences = countSequences(transitions, 2)\n",
    "        for varNum in range(start, end):\n",
    "            cspRythm.add_binary_factor(('U', varNum), ('U', varNum+1), lambda u1, u2 : biSequences[(u1[1], u2[1])])\n",
    "        ###### Add corner cases\n",
    "        cspRythm.add_unary_factor(('U', start), lambda u : biSequences[(windowedPrimTrack[start-1][1], u[1])])\n",
    "        cspRythm.add_unary_factor(('U', end)  , lambda u : biSequences[(u[1], windowedPrimTrack[end+1][1])])\n",
    "     \n",
    "    if bi_gap:  \n",
    "        # Create binary factors with gap\n",
    "        for gap in range(1,len(window)):\n",
    "            biSequencesGap = countSequences(transitions, 2, gap)\n",
    "            for varNum in range(start, end-gap):\n",
    "                cspRythm.add_binary_factor(('U', varNum), ('U', varNum+1+gap), lambda u1, u2 : biSequencesGap[(u1[1], u2[1])])\n",
    "            ###### Add corner cases\n",
    "            for varNum in range(start, start+gap):\n",
    "                cspRythm.add_unary_factor(('U', varNum), lambda u : biSequencesGap[(windowedPrimTrack[varNum-1-gap][1], u[1])])\n",
    "            for varNum in range(end-gap, end): \n",
    "                cspRythm.add_unary_factor(('U', varNum)  , lambda u : biSequencesGap[(u[1], windowedPrimTrack[varNum+2+gap][1])])\n",
    "\n",
    "    if tri:\n",
    "        ### Compute domain for variables which represent two consecutive pitches ###\n",
    "        domain2 = tuple(itertools.product((True,False), repeat = 2))\n",
    "\n",
    "        ### Create variables which represent 2 consecutive pitches as ('B', pitchIdx) ###\n",
    "        for rythmIdx in range(start, end):\n",
    "            cspRythm.add_variable(('B', rythmIdx), copy.deepcopy(domain2))\n",
    "                                                                                                                                                                                                     # Creating \"binary\" variables for 3-sequences handling\n",
    "        ### Creating binary factors proportional to frequence of apparition of triads ###                                                                                                                               triSequences = countSequences(windowedPrimTrack, 3)\n",
    "        freq3 = countSequences(transitions, 3)\n",
    "        for rythmIdx in range(start, end):\n",
    "            # Add constraint B_i[0] = U_i\n",
    "            cspRythm.add_binary_factor(('U', rythmIdx), ('B', rythmIdx), lambda u, b: u[1] == b[0])\n",
    "\n",
    "            if rythmIdx < end-1:\n",
    "                # Add consitency contraints B_i[0] = B_{i+1}[1] and frequency factor\n",
    "                cspRythm.add_binary_factor(('B', rythmIdx), ('B', rythmIdx+1), \\\n",
    "                                        lambda b1, b2: (b1[0] == b2[1]) * freq3[(b1[1], b1[0], b2[0])]) \n",
    "                \n",
    "            \n",
    "        # Add corner cases\n",
    "        cspRythm.add_unary_factor(('B', start), lambda b: (b[1] == transitions[start-1]) \\\n",
    "                          * freq3[(transitions[start-2], transitions[start-1], b[0])])\n",
    "        cspRythm.add_unary_factor(('B', end-1), lambda b: freq3[(b[1], b[0], transitions[end+1])] \\\n",
    "                     * freq3[(b[0], transitions[end+1], transitions[end+2])])\n",
    "\n",
    "    return cspRythm"
   ]
  },
  {
   "cell_type": "code",
   "execution_count": 5,
   "metadata": {
    "collapsed": true
   },
   "outputs": [],
   "source": [
    "def createPitchCSP(windowedPitchPrimTrack, weight_uni, weight_bi, window, bi=True, tri=False, bi_gap=True):\n",
    "    (start, end) = window\n",
    "    cspPitch = cspUtil.CSP()\n",
    "    pitchTrack = [note[0] for note in windowedPitchPrimTrack]\n",
    "    # Creating \"units\" variables #\n",
    "    # Domains\n",
    "    minPitch, maxPitch = pitchTrack[0], pitchTrack[0]\n",
    "    for pitch in pitchTrack:\n",
    "        if type(pitch) == int:\n",
    "            minPitch, maxPitch = min(minPitch, pitch), max(maxPitch, pitch)\n",
    "    domains = tuple(list(range(minPitch, maxPitch+1)) + ['silence'])\n",
    "    \n",
    "    for pitchNum in range(start, end+1):\n",
    "        cspPitch.add_variable(('U', pitchNum), copy.deepcopy(domains))\n",
    "\n",
    "     #frequency of single apparition\n",
    "    freq1 = countSequences(pitchTrack, 1)\n",
    "    for pitchIdx in range(start, end):\n",
    "        cspPitch.add_unary_factor(('U', pitchIdx), lambda p : freq1[(p,)]**weight_uni)\n",
    "        \n",
    "    # Create binary factor: must keep the same pitch if previous duration = True\n",
    "    for varNum in range(start, end): \n",
    "        if windowedPitchPrimTrack[varNum][1]:\n",
    "            cspPitch.add_binary_factor(('U', varNum), ('U', varNum+1), lambda x, y : x == y)\n",
    "    ###### Add corner cases\n",
    "    if windowedPitchPrimTrack[start-1][1]:\n",
    "        cspPitch.add_unary_factor(('U', start), lambda x : x == windowedPitchPrimTrack[start-1][0])\n",
    "    if windowedPitchPrimTrack[end][1]:\n",
    "        cspPitch.add_unary_factor(('U', end), lambda x : x == windowedPitchPrimTrack[end+1][0])\n",
    "\n",
    "    if bi:\n",
    "        # Create binary factors proportional to frequence of apparition of pairs\n",
    "        biSequences = countSequences(pitchTrack, 2)\n",
    "        for varNum in range(start, end):\n",
    "            cspPitch.add_binary_factor(('U', varNum), ('U', varNum+1), lambda p1, p2 : biSequences[(p1, p2)]**weight_bi)\n",
    "        ###### Add corner cases\n",
    "        cspPitch.add_unary_factor(('U', start), lambda p : biSequences[(pitchTrack[start-1], p)]**weight_bi)\n",
    "        cspPitch.add_unary_factor(('U', end)  , lambda p : biSequences[(p, pitchTrack[end+1])]**weight_bi)\n",
    "    \n",
    "    if bi_gap:\n",
    "        # Create binary factors with gap\n",
    "        for gap in range(1,len(window)):\n",
    "            biSequencesGap = countSequences(pitchTrack, 2, gap)\n",
    "            for varNum in range(start, end-gap):\n",
    "                cspPitch.add_binary_factor(('U', varNum), ('U', varNum+1+gap), lambda p1, p2 : biSequencesGap[(p1, p2)]**weight_bi)\n",
    "            ###### Add corner cases\n",
    "            for varNum in range(start, start+gap):\n",
    "                cspPitch.add_unary_factor(('U', varNum), lambda p : biSequencesGap[(pitchTrack[varNum-1-gap], p)]**weight_bi)\n",
    "            for varNum in range(end-gap, end): \n",
    "                cspPitch.add_unary_factor(('U', varNum)  , lambda p : biSequencesGap[(p, pitchTrack[varNum+2+gap])]**weight_bi)\n",
    "\n",
    "    if tri:\n",
    "        ### Compute domain for variables which represent two consecutive pitches ###\n",
    "        domain2 = tuple(itertools.product(domains, repeat = 2))\n",
    "\n",
    "        ### Create variables which represent 2 consecutive pitches as ('B', pitchIdx) ###\n",
    "        for pitchIdx in range(start, end):\n",
    "            cspPitch.add_variable(('B', pitchIdx), copy.deepcopy(domain2))\n",
    "                                                                                                                                                                                                         # Creating \"binary\" variables for 3-sequences handling\n",
    "        ### Creating binary factors proportional to frequence of apparition of triads ###                                                                                                                               triSequences = countSequences(windowedPrimTrack, 3)\n",
    "        freq3 = countSequences(pitchTrack, 3)\n",
    "        for pitchIdx in range(start, end):\n",
    "            # Add constraint B_i[0] = U_i\n",
    "            cspPitch.add_binary_factor(('U', pitchIdx), ('B', pitchIdx), lambda u, b: u == b[0])\n",
    "\n",
    "            if pitchIdx < end-1:\n",
    "                # Add consitency contraints B_i[0] = B_{i+1}[1] and frequency factor\n",
    "                cspPitch.add_binary_factor(('B', pitchIdx), ('B', pitchIdx+1), \\\n",
    "                                        lambda b1, b2: (b1[0] == b2[1]) * freq3[(b1[1], b1[0], b2[0])]**weight_uni)\n",
    "        # Add corner cases\n",
    "        cspPitch.add_unary_factor(('B', start), lambda b: (b[1] == pitchTrack[start-1]) \\\n",
    "                              * freq3[(pitchTrack[start-2], pitchTrack[start-1], b[0])]**weight_uni)\n",
    "        cspPitch.add_unary_factor(('B', end-1), lambda b: freq3[(b[1], b[0], pitchTrack[end+1])]**weight_uni \\\n",
    "                         * freq3[(b[0], pitchTrack[end+1], pitchTrack[end+2])]**weight_uni)\n",
    "    \n",
    "    #printBinaryFactor(cspPitch.binaryFactors)\n",
    "        \n",
    "    return cspPitch"
   ]
  },
  {
   "cell_type": "code",
   "execution_count": 22,
   "metadata": {
    "collapsed": true
   },
   "outputs": [],
   "source": [
    "def reconstruction(mypattern,  window, weight_uni, weight_bi, trackNum=0, bi=True, tri=False, rhythmRec=False, bi_gap=True):\n",
    "    rythmUnit, windowedPrimTrack = mypattern.getCorrupt(window, trackNum)\n",
    "    windowedPitchPrimTrack = windowedPrimTrack[:]\n",
    "    if rhythmRec:\n",
    "        # Rhythm reconstruction\n",
    "        CSP_rythm = createRythmCSP(windowedPrimTrack, window, bi, tri, bi_gap)\n",
    "        search_rythm = cspUtil.BacktrackingSearch()\n",
    "        search_rythm.solve(CSP_rythm, mcv = False, ac3 = False)  \n",
    "        \n",
    "        for i, note in enumerate(windowedPitchPrimTrack[:]):\n",
    "            if note == (None, None):\n",
    "                windowedPitchPrimTrack[i] = search_rythm.optimalAssignment[('U', i)]\n",
    "    else:\n",
    "        # No Rhythm reconstruction (rhythm based on the original score)\n",
    "        for i, note in enumerate(windowedPitchPrimTrack[:]):\n",
    "            if note == (None, None):\n",
    "                windowedPitchPrimTrack[i] = (None, mypattern.primTracks[trackNum][i][1])\n",
    "\n",
    "    # Pitch reconstruction\n",
    "    CSP_pitch = createPitchCSP(windowedPitchPrimTrack, weight_uni, weight_bi, window, bi, tri, bi_gap)\n",
    "    search_pitch = cspUtil.BacktrackingSearch()\n",
    "    search_pitch.solve(CSP_pitch, mcv = False, ac3 = False)\n",
    "    primReconstruction = windowedPitchPrimTrack[:]\n",
    "    for i, note in enumerate(primReconstruction[:]):\n",
    "        if note[0] == None:\n",
    "            if ('U', i) in search_pitch.optimalAssignment.keys():\n",
    "                primReconstruction[i] = (search_pitch.optimalAssignment[('U', i)], primReconstruction[i][1])\n",
    "    \n",
    "    return primReconstruction"
   ]
  },
  {
   "cell_type": "code",
   "execution_count": 23,
   "metadata": {
    "collapsed": true
   },
   "outputs": [],
   "source": [
    "def lossFunction(window, primOriginal, primReconstruction):\n",
    "    (start, end) = window\n",
    "    accuracy = 0\n",
    "    for i in range(start, end+1):\n",
    "        if primOriginal[i][0] == primReconstruction[i][0]:\n",
    "            accuracy += 1\n",
    "        else: \n",
    "            print 'Position:', i, 'Original pitch:', primOriginal[i][0], 'Reconstructed pitch:', primReconstruction[i][0]\n",
    "            \n",
    "        if primOriginal[i][1] == primReconstruction[i][1]:\n",
    "            accuracy += 1\n",
    "        else: \n",
    "            print 'Position:', i, 'Original rhythm:', primOriginal[i][1], 'Reconstructed rhythm:', primReconstruction[i][1]\n",
    "            \n",
    "    loss = 100 * (1 - accuracy/(2.*(end+1-start)))\n",
    "    #print 'Loss value (percentage):', loss\n",
    "    return  loss"
   ]
  },
  {
   "cell_type": "code",
   "execution_count": 29,
   "metadata": {},
   "outputs": [],
   "source": [
    "#midi_file = \"/Users/robin/Desktop/CS221_projet/Open_MIDI_file/ode.mid\"\n",
    "midi_file = \"/Users/robin/Desktop/CS221_projet/Open_MIDI_file/ode.mid\"\n",
    "mypattern = dataUtil.MusicPattern(midi_file)\n",
    "mypattern.midiToLisp()\n",
    "mypattern.lispToPrim()\n",
    "mypattern.primToLisp()\n",
    "mypattern.lispToMidi()"
   ]
  },
  {
   "cell_type": "code",
   "execution_count": 30,
   "metadata": {},
   "outputs": [
    {
     "data": {
      "text/plain": [
       "32.692307692307686"
      ]
     },
     "execution_count": 30,
     "metadata": {},
     "output_type": "execute_result"
    }
   ],
   "source": [
    "trackNum = 0\n",
    "weight_uni = 0.5\n",
    "weight_bi = 2\n",
    "window = (25, 50)\n",
    "primReconstruction = reconstruction(mypattern,  window, weight_uni, weight_bi, trackNum=0, bi=True, tri=False, rhythmRec=False, bi_gap=False)\n",
    "primOriginal = mypattern.primTracks[trackNum]\n",
    "Loss = lossFunction(window, primOriginal, primReconstruction)\n",
    "Loss"
   ]
  },
  {
   "cell_type": "code",
   "execution_count": 33,
   "metadata": {},
   "outputs": [],
   "source": [
    "import sys\n",
    "import numpy as np\n",
    "log = open(\"log.txt\", \"w\")\n",
    "sys.stdout = log\n",
    "\n",
    "path = '/Users/robin/Desktop/CS221_projet/GitHub/cs221/dat/bach-chorales/chorales.lisp'\n",
    "weight_uni = 1\n",
    "weight_bi = 1\n",
    "\n",
    "results = {}\n",
    "\n",
    "for chorale in range(100):\n",
    "    trackNum=0\n",
    "    bi = True\n",
    "    rhythmRec = True\n",
    "    mypattern = dataUtil.BachChorale(path, chorale)\n",
    "    L = len(mypattern.primTracks[0])\n",
    "    window_list = [(L/4, L/4 +5), (L/4, L/4 +10), (L/2, L/2 +5), (L/2, L/2 +10), (3*L/4, 3*L/4 +5)]\n",
    "    if len(mypattern.primTracks[0]) > 3*L/4 +10:\n",
    "        window_list.append((3*L/4, 3*L/4 +10))\n",
    "    #if len(mypattern.primTracks[0]) > L/2 +20:\n",
    "    #    window_list.append((L/2, L/2 +20))\n",
    "    #if len(mypattern.primTracks[0]) > 3*L/4 +20:\n",
    "    #    window_list.append((3*L/4, 3*L/4 +20))\n",
    "    for window in window_list:\n",
    "        for tri in [True, False]:\n",
    "            for bi_gap in [True, False]:\n",
    "                try:\n",
    "                    primReconstruction = reconstruction(mypattern, window, weight_uni, weight_bi, trackNum, bi, tri, rhythmRec, bi_gap)\n",
    "                    primOriginal = mypattern.primTracks[trackNum]\n",
    "                    Loss = lossFunction(window, primOriginal, primReconstruction)\n",
    "                    results[(chorale, L, window, tri, bi_gap)] = Loss\n",
    "                    print 'chorale numero: ', chorale\n",
    "                    print 'chorale length: ', L\n",
    "                    print 'window: ', window\n",
    "                    print 'tri: ', tri\n",
    "                    print 'bi_gap: ', bi_gap\n",
    "                    print 'Loss: ', Loss\n",
    "                    print '########################'\n",
    "                except:\n",
    "                    pass\n",
    "# Save             \n",
    "np.save('results_dict.npy', results) "
   ]
  },
  {
   "cell_type": "code",
   "execution_count": null,
   "metadata": {
    "collapsed": true
   },
   "outputs": [],
   "source": [
    "# Load\n",
    "read_dictionary = np.load('results_dict.npy').item()"
   ]
  },
  {
   "cell_type": "code",
   "execution_count": null,
   "metadata": {},
   "outputs": [],
   "source": [
    "read_dictionary"
   ]
  },
  {
   "cell_type": "markdown",
   "metadata": {},
   "source": [
    "# Finding optimal weights for unary and binary factors"
   ]
  },
  {
   "cell_type": "code",
   "execution_count": null,
   "metadata": {
    "collapsed": true
   },
   "outputs": [],
   "source": [
    "trackNum = 0\n",
    "weight_uni = 1\n",
    "weight_bi = 1\n",
    "#window = (20, 30)\n",
    "for i in range(10,30):\n",
    "    window = (i, i+10)\n",
    "    primReconstruction = reconstruction(mypattern,  window, weight_uni, weight_bi, trackNum=0, bi=True, tri=False, rhythmRec=False)\n",
    "    primOriginal = mypattern.primTracks[trackNum]\n",
    "    Loss = lossFunction(window, primOriginal, primReconstruction)\n",
    "    print Loss"
   ]
  },
  {
   "cell_type": "code",
   "execution_count": null,
   "metadata": {
    "collapsed": true
   },
   "outputs": [],
   "source": [
    "Loss_mean = []\n",
    "for i in range(len(Weight_factors)):\n",
    "    weight_uni = Weight_factors[i]\n",
    "    for j in range(len(Weight_factors)):\n",
    "        weight_bi = Weight_factors[j]\n",
    "        Losses = [trainExamples[k][1] for k in range(len(trainExamples)) if (trainExamples[k][0][1] == weight_uni) & (trainExamples[k][0][2] == weight_bi)]\n",
    "        Loss_mean.append([weight_uni, weight_bi, sum(Losses)/len(Losses)])"
   ]
  },
  {
   "cell_type": "code",
   "execution_count": null,
   "metadata": {
    "collapsed": true
   },
   "outputs": [],
   "source": [
    "min([Loss_mean[i][2] for i in range(len(Loss_mean))])"
   ]
  },
  {
   "cell_type": "code",
   "execution_count": null,
   "metadata": {
    "collapsed": true
   },
   "outputs": [],
   "source": [
    "[Loss_mean[i][2] for i in range(len(Loss_mean))]"
   ]
  },
  {
   "cell_type": "code",
   "execution_count": null,
   "metadata": {
    "collapsed": true
   },
   "outputs": [],
   "source": []
  }
 ],
 "metadata": {
  "kernelspec": {
   "display_name": "Python 2",
   "language": "python",
   "name": "python2"
  },
  "language_info": {
   "codemirror_mode": {
    "name": "ipython",
    "version": 2
   },
   "file_extension": ".py",
   "mimetype": "text/x-python",
   "name": "python",
   "nbconvert_exporter": "python",
   "pygments_lexer": "ipython2",
   "version": "2.7.14"
  }
 },
 "nbformat": 4,
 "nbformat_minor": 2
}
