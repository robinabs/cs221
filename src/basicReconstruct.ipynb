{
 "cells": [
  {
   "cell_type": "code",
   "execution_count": 21,
   "metadata": {
    "collapsed": true
   },
   "outputs": [],
   "source": [
    "import collections\n",
    "import copy\n",
    "import cspUtil\n",
    "import dataUtil"
   ]
  },
  {
   "cell_type": "code",
   "execution_count": 42,
   "metadata": {
    "collapsed": true
   },
   "outputs": [],
   "source": [
    "def countSequences(inputList, N, gap=0):\n",
    "    out = collections.defaultdict(float)\n",
    "    if gap == 0:\n",
    "        for i in range(len(inputList)-N+1):\n",
    "            if [inputList[i+k] != None for k in range(N)] == [True for _ in range(N)]:\n",
    "                seq = tuple([inputList[i+k] for k in range(N)])\n",
    "                out[seq] += 1\n",
    "        #print out\n",
    "    else:\n",
    "        assert N == 2\n",
    "        for i in range(len(inputList)-N+1-gap):\n",
    "            if (inputList[i] != None) and (inputList[i+gap+1] != None):\n",
    "                seq = tuple([inputList[i], inputList[i+gap+1]])\n",
    "                out[seq] += 1\n",
    "        \n",
    "\n",
    "    factor= 1.0 / sum(out.itervalues())\n",
    "    for k in out:\n",
    "          out[k] *= 10*factor\n",
    "\n",
    "    return out"
   ]
  },
  {
   "cell_type": "code",
   "execution_count": 65,
   "metadata": {},
   "outputs": [
    {
     "data": {
      "text/plain": [
       "defaultdict(float,\n",
       "            {(72, 72): 0.851063829787234,\n",
       "             (72, 74): 0.851063829787234,\n",
       "             (72, 76): 0.425531914893617,\n",
       "             (74, 72): 1.4893617021276595,\n",
       "             (74, 74): 0.2127659574468085,\n",
       "             (74, 76): 0.6382978723404256,\n",
       "             (76, 72): 0.425531914893617,\n",
       "             (76, 74): 1.2765957446808511,\n",
       "             (76, 76): 0.6382978723404256,\n",
       "             (76, 77): 0.425531914893617,\n",
       "             (76, 79): 0.2127659574468085,\n",
       "             (77, 74): 0.425531914893617,\n",
       "             (77, 76): 0.425531914893617,\n",
       "             (77, 79): 0.425531914893617,\n",
       "             (79, 76): 0.425531914893617,\n",
       "             (79, 77): 0.6382978723404256,\n",
       "             (79, 79): 0.2127659574468085})"
      ]
     },
     "execution_count": 65,
     "metadata": {},
     "output_type": "execute_result"
    }
   ],
   "source": [
    "rythmUnit, windowedPrimTrack = mypattern.getCorrupt(window, trackNum)\n",
    "pitchTrack = [note[0] for note in windowedPrimTrack]\n",
    "N=2\n",
    "countSequences(pitchTrack, N, gap=2)"
   ]
  },
  {
   "cell_type": "code",
   "execution_count": 3,
   "metadata": {},
   "outputs": [
    {
     "name": "stdout",
     "output_type": "stream",
     "text": [
      "Loaded /Users/robin/Desktop/CS221_projet/Open_MIDI_file/chor_armure.mid\n"
     ]
    }
   ],
   "source": [
    "midi_file = \"/Users/robin/Desktop/CS221_projet/Open_MIDI_file/chor_armure.mid\"\n",
    "window = (10, 15)\n",
    "mypattern = dataUtil.MusicPattern(midi_file)\n",
    "mypattern.midiToLisp()\n",
    "mypattern.lispToPrim()\n",
    "mypattern.primToLisp()\n",
    "mypattern.lispToMidi()\n",
    "rythmUnit, windowedPrimTrack = mypattern.getCorrupt(window)"
   ]
  },
  {
   "cell_type": "code",
   "execution_count": 4,
   "metadata": {
    "collapsed": true
   },
   "outputs": [],
   "source": [
    "def createRythmCSP(windowedPrimTrack, window, bi=True, tri=False):\n",
    "    cspRythm = cspUtil.CSP()\n",
    "    (start, end) = window\n",
    "    # Creating \"units\" variables\n",
    "    transitions = [note[1] for note in windowedPrimTrack]\n",
    "    for unitNum in range(start, end+1):\n",
    "        unit = windowedPrimTrack[unitNum]\n",
    "        cspRythm.add_variable(('U', unitNum), [(unit[0],True),(unit[0],False)])\n",
    "\n",
    "    if bi:\n",
    "        # Create binary factors proportional to frequence of apparition of pairs\n",
    "        biSequences = countSequences(transitions, 2)\n",
    "        #print \"bi\"\n",
    "        #print biSequences\n",
    "        for varNum in range(start, end):\n",
    "            cspRythm.add_binary_factor(('U', varNum), ('U', varNum+1), lambda u1, u2 : biSequences[(u1[1], u2[1])])\n",
    "        # Add corner cases\n",
    "        cspRythm.add_unary_factor(('U', start), lambda u : biSequences[(windowedPrimTrack[start-1][1], u[1])])\n",
    "        cspRythm.add_unary_factor(('U', end)  , lambda u : biSequences[(u[1], windowedPrimTrack[end+1][1])])\n",
    "\n",
    "    if tri:\n",
    "        # Creating \"binary\" variables for 3-sequences handling\n",
    "        domain = [(False, False), (False, True), (True, False), (True, True)]\n",
    "        for unitNum in range(start, end+1):\n",
    "            cspRythm.add_variable(('B', unitNum), copy.deepcopy(domain))\n",
    "\n",
    "        # Creating binary factors proportional to frequence of apparition of triads\n",
    "        triSequences = countSequences(transitions, 3)\n",
    "\n",
    "        for varNum in range(start, end+1):\n",
    "            # Add constraint B_i[0] = U_i[1]\n",
    "            cspRythm.add_binary_factor(('U', varNum), ('B', varNum), lambda u, b: u[1] == b[0])\n",
    "\n",
    "            if varNum != end:\n",
    "                # Add consitency contraints B_i[0] = B_{i+1}[1] and frequency factor\n",
    "                cspRythm.add_binary_factor(('B', varNum), ('B', varNum+1), \\\n",
    "                                           lambda b1, b2: (b1[0] == b2[1]) * triSequences[(b1[1], b1[0], b2[0])])\n",
    "        # Add corner cases\n",
    "        cspRythm.add_unary_factor(('B', start), lambda b: b[1] == windowedPrimTrack[start-1])\n",
    "        cspRythm.add_unary_factor(('B', end)  , \\\n",
    "                lambda b: triSequences[(b[1], b[0], windowedPrimTrack[end+1])] \\\n",
    "                        * triSequences[(b[0], windowedPrimTrack[end+1], windowedPrimTrack[end+2])])\n",
    "\n",
    "    return cspRythm"
   ]
  },
  {
   "cell_type": "code",
   "execution_count": 127,
   "metadata": {
    "collapsed": true
   },
   "outputs": [],
   "source": [
    "def createPitchCSP(windowedPitchPrimTrack, weight_uni, weight_bi, window, bi=True, tri=False):\n",
    "    (start, end) = window\n",
    "    cspPitch = cspUtil.CSP()\n",
    "    pitchTrack = [note[0] for note in windowedPitchPrimTrack]\n",
    "    # Creating \"units\" variables #\n",
    "    # Domains\n",
    "    minPitch, maxPitch = pitchTrack[0], pitchTrack[0]\n",
    "    for pitch in pitchTrack:\n",
    "        if type(pitch) == int:\n",
    "            minPitch, maxPitch = min(minPitch, pitch), max(maxPitch, pitch)\n",
    "    domains = tuple(list(range(minPitch, maxPitch+1)) + ['silence'])\n",
    "    \n",
    "    for pitchNum in range(start, end+1):\n",
    "        cspPitch.add_variable(('U', pitchNum), copy.deepcopy(domains))\n",
    "\n",
    "     #frequency of single apparition\n",
    "    freq1 = countSequences(pitchTrack, 1)\n",
    "    for pitchIdx in range(start, end):\n",
    "        cspPitch.add_unary_factor(('U', pitchIdx), lambda p : weight_uni*freq1[(p,)])\n",
    "        \n",
    "    # Create binary factor: must keep the same pitch if previous duration = True\n",
    "    for varNum in range(start, end): \n",
    "        if windowedPitchPrimTrack[varNum][1]:\n",
    "            cspPitch.add_binary_factor(('U', varNum), ('U', varNum+1), lambda x, y : x == y)\n",
    "    ###### Add corner cases\n",
    "    if windowedPitchPrimTrack[start-1][1]:\n",
    "        cspPitch.add_unary_factor(('U', start), lambda x : x == windowedPitchPrimTrack[start-1][0])\n",
    "    if windowedPitchPrimTrack[end][1]:\n",
    "        cspPitch.add_unary_factor(('U', end), lambda x : x == windowedPitchPrimTrack[end+1][0])\n",
    "    \n",
    "    # Create binary factors proportional to frequence of apparition of pairs\n",
    "    biSequences = countSequences(pitchTrack, 2)\n",
    "    #print \"bi\"\n",
    "    #print biSequences\n",
    "    for varNum in range(start, end):\n",
    "        cspPitch.add_binary_factor(('U', varNum), ('U', varNum+1), lambda p1, p2 : weight_bi*biSequences[(p1, p2)])\n",
    "    ###### Add corner cases\n",
    "    cspPitch.add_unary_factor(('U', start), lambda p : weight_bi*biSequences[(pitchTrack[start-1], p)])\n",
    "    cspPitch.add_unary_factor(('U', end)  , lambda p : weight_bi*biSequences[(p, pitchTrack[end+1])])\n",
    "    \n",
    "    # Create binary factors with gap\n",
    "    for gap in range(1,10):\n",
    "        biSequencesGap = countSequences(pitchTrack, 2, gap)\n",
    "        #print \"bi\"\n",
    "        #print biSequencesGap\n",
    "        for varNum in range(start, end-gap):\n",
    "            cspPitch.add_binary_factor(('U', varNum), ('U', varNum+1+gap), lambda p1, p2 : weight_bi*biSequencesGap[(p1, p2)])\n",
    "        ###### Add corner cases\n",
    "        for varNum in range(start, start+gap):\n",
    "            cspPitch.add_unary_factor(('U', varNum), lambda p : weight_bi*biSequencesGap[(pitchTrack[varNum-1-gap], p)])\n",
    "        for varNum in range(end-gap, end): \n",
    "            cspPitch.add_unary_factor(('U', varNum)  , lambda p : weight_bi*biSequencesGap[(p, pitchTrack[varNum+2+gap])])\n",
    "\n",
    "        \n",
    "\n",
    "    \"\"\"\n",
    "    if triSeq:\n",
    "        # Creating \"binary\" variables for 3-sequences handling\n",
    "        domain = [(False, False), (False, True), (True, False), (True, True)]\n",
    "        for unitNum in range(start, end+1):\n",
    "            cspPitch.add_variable(('B', unitNum), copy.deepcopy(domain))\n",
    "\n",
    "        # Creating binary factors proportional to frequence of apparition of triads\n",
    "        triSequences = countSequences(windowedPrimTrack, 3)\n",
    "\n",
    "        for varNum in range(start, end+1):\n",
    "            # Add constraint B_i[0] = U_i[1]\n",
    "            cspPitch.add_binary_factor(('U', varNum), ('B', varNum), lambda u, b: u[1] == b[0])\n",
    "\n",
    "            if varNum != end:\n",
    "                # Add consitency contraints B_i[0] = B_{i+1}[1] and frequency factor\n",
    "                cspPitch.add_binary_factor(('B', varNum), ('B', varNum+1), \\\n",
    "                                           lambda b1, b2: (b1[0] == b2[1]) * triSequences[(b1[1], b1[0], b2[0])])\n",
    "        # Add corner cases\n",
    "        cspPitch.add_unary_factor(('B', start), lambda b: b[1] == windowedPrimTrack[start-1])\n",
    "        cspPitch.add_unary_factor(('B', end)  , \\\n",
    "                lambda b: triSequences[(b[1], b[0], windowedPrimTrack[end+1])] \\\n",
    "                        * triSequences[(b[0], windowedPrimTrack[end+1], windowedPrimTrack[end+2])])\n",
    "        \"\"\"\n",
    "\n",
    "    return cspPitch"
   ]
  },
  {
   "cell_type": "code",
   "execution_count": 128,
   "metadata": {
    "collapsed": true
   },
   "outputs": [],
   "source": [
    "def reconstruction(mypattern,  window, weight_uni, weight_bi, trackNum=0, bi=True, tri=False, rhythmRec=False):\n",
    "    rythmUnit, windowedPrimTrack = mypattern.getCorrupt(window, trackNum)\n",
    "    windowedPitchPrimTrack = windowedPrimTrack[:]\n",
    "    if rhythmRec:\n",
    "        # Rhythm reconstruction\n",
    "        CSP_rythm = createRythmCSP(windowedPrimTrack, window, bi, tri)\n",
    "        search_rythm = cspUtil.BacktrackingSearch()\n",
    "        search_rythm.solve(CSP_rythm, mcv = False, ac3 = False)\n",
    "        for i, note in enumerate(windowedPitchPrimTrack[:]):\n",
    "            if note == (None, None):\n",
    "                windowedPitchPrimTrack[i] = search_rythm.optimalAssignment[('U', i)]\n",
    "    else:\n",
    "        for i, note in enumerate(windowedPitchPrimTrack[:]):\n",
    "            if note == (None, None):\n",
    "                windowedPitchPrimTrack[i] = (None, mypattern.primTracks[trackNum][i][1])\n",
    "    \n",
    "    # Pitch reconstruction\n",
    "    CSP_pitch = createPitchCSP(windowedPitchPrimTrack, weight_uni, weight_bi, window, bi=True, tri=False)\n",
    "    search_pitch = cspUtil.BacktrackingSearch()\n",
    "    search_pitch.solve(CSP_pitch, mcv = False, ac3 = False)\n",
    "    primReconstruction = windowedPitchPrimTrack[:]\n",
    "    for i, note in enumerate(primReconstruction[:]):\n",
    "        if note[0] == None:\n",
    "            if ('U', i) in search_pitch.optimalAssignment.keys():\n",
    "                primReconstruction[i] = (search_pitch.optimalAssignment[('U', i)], primReconstruction[i][1])\n",
    "    \n",
    "    return primReconstruction"
   ]
  },
  {
   "cell_type": "code",
   "execution_count": 129,
   "metadata": {
    "collapsed": true
   },
   "outputs": [],
   "source": [
    "def lossFunction(window, primOriginal, primReconstruction):\n",
    "    (start, end) = window\n",
    "    accuracy = 0\n",
    "    for i in range(start, end+1):\n",
    "        if primOriginal[i][0] == primReconstruction[i][0]:\n",
    "            accuracy += 1\n",
    "        #else: \n",
    "            #print 'Position:', i, 'Original pitch:', primOriginal[i][0], 'Reconstructed pitch:', primReconstruction[i][0]\n",
    "            \n",
    "        if primOriginal[i][1] == primReconstruction[i][1]:\n",
    "            accuracy += 1\n",
    "        #else: \n",
    "            #print 'Position:', i, 'Original rhythm:', primOriginal[i][1], 'Reconstructed rhythm:', primReconstruction[i][1]\n",
    "            \n",
    "    loss = 100 * (1 - accuracy/(2.*(end+1-start)))\n",
    "    #print 'Loss value (percentage):', loss\n",
    "    return  loss"
   ]
  },
  {
   "cell_type": "code",
   "execution_count": 130,
   "metadata": {},
   "outputs": [
    {
     "name": "stdout",
     "output_type": "stream",
     "text": [
      "Loaded /Users/robin/Desktop/CS221_projet/Open_MIDI_file/ode.mid\n"
     ]
    }
   ],
   "source": [
    "midi_file = \"/Users/robin/Desktop/CS221_projet/Open_MIDI_file/ode.mid\"\n",
    "mypattern = dataUtil.MusicPattern(midi_file)\n",
    "mypattern.midiToLisp()\n",
    "mypattern.lispToPrim()\n",
    "mypattern.primToLisp()\n",
    "mypattern.lispToMidi()"
   ]
  },
  {
   "cell_type": "code",
   "execution_count": 131,
   "metadata": {},
   "outputs": [
    {
     "data": {
      "text/plain": [
       "50.0"
      ]
     },
     "execution_count": 131,
     "metadata": {},
     "output_type": "execute_result"
    }
   ],
   "source": [
    "trackNum = 0\n",
    "weight_uni = 1\n",
    "weight_bi = 1\n",
    "window = (i, i+10)\n",
    "primReconstruction = reconstruction(mypattern,  window, weight_uni, weight_bi, trackNum=0, bi=True, tri=False, rhythmRec=False)\n",
    "primOriginal = mypattern.primTracks[trackNum]\n",
    "Loss = lossFunction(window, primOriginal, primReconstruction)\n",
    "Loss"
   ]
  },
  {
   "cell_type": "code",
   "execution_count": 10,
   "metadata": {},
   "outputs": [
    {
     "name": "stdout",
     "output_type": "stream",
     "text": [
      "27.2727272727\n",
      "36.3636363636\n",
      "36.3636363636\n",
      "36.3636363636\n",
      "36.3636363636\n",
      "27.2727272727\n",
      "40.9090909091\n",
      "31.8181818182\n",
      "22.7272727273\n",
      "36.3636363636\n",
      "36.3636363636\n",
      "22.7272727273\n",
      "22.7272727273\n",
      "22.7272727273\n",
      "22.7272727273\n",
      "22.7272727273\n",
      "22.7272727273\n",
      "22.7272727273\n",
      "18.1818181818\n",
      "18.1818181818\n"
     ]
    }
   ],
   "source": [
    "trackNum = 0\n",
    "weight_uni = 1\n",
    "weight_bi = 1\n",
    "#window = (20, 30)\n",
    "for i in range(10,30):\n",
    "    window = (i, i+10)\n",
    "    primReconstruction = reconstruction(mypattern,  window, weight_uni, weight_bi, trackNum=0, bi=True, tri=False, rhythmRec=False)\n",
    "    primOriginal = mypattern.primTracks[trackNum]\n",
    "    Loss = lossFunction(window, primOriginal, primReconstruction)\n",
    "    print Loss"
   ]
  },
  {
   "cell_type": "code",
   "execution_count": 1,
   "metadata": {},
   "outputs": [
    {
     "ename": "NameError",
     "evalue": "name 'Weight_factors' is not defined",
     "output_type": "error",
     "traceback": [
      "\u001b[0;31m---------------------------------------------------------------------------\u001b[0m",
      "\u001b[0;31mNameError\u001b[0m                                 Traceback (most recent call last)",
      "\u001b[0;32m<ipython-input-1-c13713776dc6>\u001b[0m in \u001b[0;36m<module>\u001b[0;34m()\u001b[0m\n\u001b[1;32m      1\u001b[0m \u001b[0mLoss_mean\u001b[0m \u001b[0;34m=\u001b[0m \u001b[0;34m[\u001b[0m\u001b[0;34m]\u001b[0m\u001b[0;34m\u001b[0m\u001b[0m\n\u001b[0;32m----> 2\u001b[0;31m \u001b[0;32mfor\u001b[0m \u001b[0mi\u001b[0m \u001b[0;32min\u001b[0m \u001b[0mrange\u001b[0m\u001b[0;34m(\u001b[0m\u001b[0mlen\u001b[0m\u001b[0;34m(\u001b[0m\u001b[0mWeight_factors\u001b[0m\u001b[0;34m)\u001b[0m\u001b[0;34m)\u001b[0m\u001b[0;34m:\u001b[0m\u001b[0;34m\u001b[0m\u001b[0m\n\u001b[0m\u001b[1;32m      3\u001b[0m     \u001b[0mweight_uni\u001b[0m \u001b[0;34m=\u001b[0m \u001b[0mWeight_factors\u001b[0m\u001b[0;34m[\u001b[0m\u001b[0mi\u001b[0m\u001b[0;34m]\u001b[0m\u001b[0;34m\u001b[0m\u001b[0m\n\u001b[1;32m      4\u001b[0m     \u001b[0;32mfor\u001b[0m \u001b[0mj\u001b[0m \u001b[0;32min\u001b[0m \u001b[0mrange\u001b[0m\u001b[0;34m(\u001b[0m\u001b[0mlen\u001b[0m\u001b[0;34m(\u001b[0m\u001b[0mWeight_factors\u001b[0m\u001b[0;34m)\u001b[0m\u001b[0;34m)\u001b[0m\u001b[0;34m:\u001b[0m\u001b[0;34m\u001b[0m\u001b[0m\n\u001b[1;32m      5\u001b[0m         \u001b[0mweight_bi\u001b[0m \u001b[0;34m=\u001b[0m \u001b[0mWeight_factors\u001b[0m\u001b[0;34m[\u001b[0m\u001b[0mj\u001b[0m\u001b[0;34m]\u001b[0m\u001b[0;34m\u001b[0m\u001b[0m\n",
      "\u001b[0;31mNameError\u001b[0m: name 'Weight_factors' is not defined"
     ]
    }
   ],
   "source": [
    "Loss_mean = []\n",
    "for i in range(len(Weight_factors)):\n",
    "    weight_uni = Weight_factors[i]\n",
    "    for j in range(len(Weight_factors)):\n",
    "        weight_bi = Weight_factors[j]\n",
    "        Losses = [trainExamples[k][1] for k in range(len(trainExamples)) if (trainExamples[k][0][1] == weight_uni) & (trainExamples[k][0][2] == weight_bi)]\n",
    "        Loss_mean.append([weight_uni, weight_bi, sum(Losses)/len(Losses)])"
   ]
  },
  {
   "cell_type": "code",
   "execution_count": 183,
   "metadata": {},
   "outputs": [
    {
     "data": {
      "text/plain": [
       "18.0"
      ]
     },
     "execution_count": 183,
     "metadata": {},
     "output_type": "execute_result"
    }
   ],
   "source": [
    "min([Loss_mean[i][2] for i in range(len(Loss_mean))])"
   ]
  },
  {
   "cell_type": "code",
   "execution_count": 184,
   "metadata": {},
   "outputs": [
    {
     "data": {
      "text/plain": [
       "[50.0,\n",
       " 50.0,\n",
       " 50.0,\n",
       " 50.0,\n",
       " 50.0,\n",
       " 50.0,\n",
       " 50.0,\n",
       " 50.0,\n",
       " 50.0,\n",
       " 50.0,\n",
       " 50.0,\n",
       " 50.0,\n",
       " 18.0,\n",
       " 18.0,\n",
       " 20.0,\n",
       " 18.0,\n",
       " 20.0,\n",
       " 20.0,\n",
       " 18.0,\n",
       " 18.0,\n",
       " 20.0,\n",
       " 20.0,\n",
       " 50.0,\n",
       " 18.0,\n",
       " 18.0,\n",
       " 20.0,\n",
       " 18.0,\n",
       " 20.0,\n",
       " 20.0,\n",
       " 18.0,\n",
       " 18.0,\n",
       " 20.0,\n",
       " 20.0,\n",
       " 50.0,\n",
       " 18.0,\n",
       " 18.0,\n",
       " 18.0,\n",
       " 18.0,\n",
       " 20.0,\n",
       " 18.0,\n",
       " 18.0,\n",
       " 18.0,\n",
       " 20.0,\n",
       " 20.0,\n",
       " 50.0,\n",
       " 18.0,\n",
       " 18.0,\n",
       " 20.0,\n",
       " 18.0,\n",
       " 20.0,\n",
       " 20.0,\n",
       " 18.0,\n",
       " 18.0,\n",
       " 20.0,\n",
       " 20.0,\n",
       " 50.0,\n",
       " 18.0,\n",
       " 18.0,\n",
       " 18.0,\n",
       " 18.0,\n",
       " 18.0,\n",
       " 18.0,\n",
       " 18.0,\n",
       " 18.0,\n",
       " 18.0,\n",
       " 18.0,\n",
       " 50.0,\n",
       " 18.0,\n",
       " 18.0,\n",
       " 18.0,\n",
       " 18.0,\n",
       " 20.0,\n",
       " 18.0,\n",
       " 18.0,\n",
       " 18.0,\n",
       " 20.0,\n",
       " 20.0,\n",
       " 50.0,\n",
       " 18.0,\n",
       " 18.0,\n",
       " 18.0,\n",
       " 18.0,\n",
       " 18.0,\n",
       " 18.0,\n",
       " 20.0,\n",
       " 18.0,\n",
       " 20.0,\n",
       " 18.0,\n",
       " 50.0,\n",
       " 18.0,\n",
       " 18.0,\n",
       " 20.0,\n",
       " 18.0,\n",
       " 20.0,\n",
       " 20.0,\n",
       " 18.0,\n",
       " 18.0,\n",
       " 20.0,\n",
       " 20.0,\n",
       " 50.0,\n",
       " 18.0,\n",
       " 18.0,\n",
       " 20.0,\n",
       " 18.0,\n",
       " 18.0,\n",
       " 20.0,\n",
       " 18.0,\n",
       " 18.0,\n",
       " 20.0,\n",
       " 18.0,\n",
       " 50.0,\n",
       " 18.0,\n",
       " 18.0,\n",
       " 18.0,\n",
       " 18.0,\n",
       " 18.0,\n",
       " 18.0,\n",
       " 18.0,\n",
       " 18.0,\n",
       " 18.0,\n",
       " 18.0]"
      ]
     },
     "execution_count": 184,
     "metadata": {},
     "output_type": "execute_result"
    }
   ],
   "source": [
    "[Loss_mean[i][2] for i in range(len(Loss_mean))]"
   ]
  },
  {
   "cell_type": "code",
   "execution_count": null,
   "metadata": {
    "collapsed": true
   },
   "outputs": [],
   "source": []
  }
 ],
 "metadata": {
  "kernelspec": {
   "display_name": "Python 2",
   "language": "python",
   "name": "python2"
  },
  "language_info": {
   "codemirror_mode": {
    "name": "ipython",
    "version": 2
   },
   "file_extension": ".py",
   "mimetype": "text/x-python",
   "name": "python",
   "nbconvert_exporter": "python",
   "pygments_lexer": "ipython2",
   "version": "2.7.14"
  }
 },
 "nbformat": 4,
 "nbformat_minor": 2
}
